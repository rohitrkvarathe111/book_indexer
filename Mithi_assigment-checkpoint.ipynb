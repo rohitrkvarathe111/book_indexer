{
 "cells": [
  {
   "cell_type": "code",
   "execution_count": 1,
   "id": "4b2fa052",
   "metadata": {},
   "outputs": [],
   "source": [
    "from bs4 import BeautifulSoup\n",
    "import numpy\n",
    "import pandas as pd\n",
    "import csv\n",
    "import requests\n"
   ]
  },
  {
   "cell_type": "code",
   "execution_count": 2,
   "id": "2c002e5b",
   "metadata": {},
   "outputs": [
    {
     "ename": "UnicodeDecodeError",
     "evalue": "'charmap' codec can't decode byte 0x9d in position 930: character maps to <undefined>",
     "output_type": "error",
     "traceback": [
      "\u001b[1;31m---------------------------------------------------------------------------\u001b[0m",
      "\u001b[1;31mUnicodeDecodeError\u001b[0m                        Traceback (most recent call last)",
      "Cell \u001b[1;32mIn[2], line 43\u001b[0m\n\u001b[0;32m     40\u001b[0m index_file \u001b[38;5;241m=\u001b[39m \u001b[38;5;124m'\u001b[39m\u001b[38;5;124mindex.txt\u001b[39m\u001b[38;5;124m'\u001b[39m\n\u001b[0;32m     42\u001b[0m index_generator \u001b[38;5;241m=\u001b[39m BookIndexGenerator(pages, exclude_words_file)\n\u001b[1;32m---> 43\u001b[0m \u001b[43mindex_generator\u001b[49m\u001b[38;5;241;43m.\u001b[39;49m\u001b[43mprocess_pages\u001b[49m\u001b[43m(\u001b[49m\u001b[43m)\u001b[49m\n\u001b[0;32m     44\u001b[0m index_generator\u001b[38;5;241m.\u001b[39mgenerate_index_file(index_file)\n",
      "Cell \u001b[1;32mIn[2], line 13\u001b[0m, in \u001b[0;36mBookIndexGenerator.process_pages\u001b[1;34m(self)\u001b[0m\n\u001b[0;32m     11\u001b[0m \u001b[38;5;28;01mdef\u001b[39;00m \u001b[38;5;21mprocess_pages\u001b[39m(\u001b[38;5;28mself\u001b[39m):\n\u001b[0;32m     12\u001b[0m     \u001b[38;5;28;01mfor\u001b[39;00m page_number, page_file \u001b[38;5;129;01min\u001b[39;00m \u001b[38;5;28mself\u001b[39m\u001b[38;5;241m.\u001b[39mpages\u001b[38;5;241m.\u001b[39mitems():\n\u001b[1;32m---> 13\u001b[0m         \u001b[38;5;28;43mself\u001b[39;49m\u001b[38;5;241;43m.\u001b[39;49m\u001b[43mprocess_page\u001b[49m\u001b[43m(\u001b[49m\u001b[43mpage_number\u001b[49m\u001b[43m,\u001b[49m\u001b[43m \u001b[49m\u001b[43mpage_file\u001b[49m\u001b[43m)\u001b[49m\n",
      "Cell \u001b[1;32mIn[2], line 17\u001b[0m, in \u001b[0;36mBookIndexGenerator.process_page\u001b[1;34m(self, page_number, page_file)\u001b[0m\n\u001b[0;32m     15\u001b[0m \u001b[38;5;28;01mdef\u001b[39;00m \u001b[38;5;21mprocess_page\u001b[39m(\u001b[38;5;28mself\u001b[39m, page_number, page_file):\n\u001b[0;32m     16\u001b[0m     \u001b[38;5;28;01mwith\u001b[39;00m \u001b[38;5;28mopen\u001b[39m(page_file, \u001b[38;5;124m'\u001b[39m\u001b[38;5;124mr\u001b[39m\u001b[38;5;124m'\u001b[39m) \u001b[38;5;28;01mas\u001b[39;00m file:\n\u001b[1;32m---> 17\u001b[0m         words \u001b[38;5;241m=\u001b[39m \u001b[43mfile\u001b[49m\u001b[38;5;241;43m.\u001b[39;49m\u001b[43mread\u001b[49m\u001b[43m(\u001b[49m\u001b[43m)\u001b[49m\u001b[38;5;241m.\u001b[39msplit()\n\u001b[0;32m     18\u001b[0m         unique_words \u001b[38;5;241m=\u001b[39m \u001b[38;5;28mset\u001b[39m(word \u001b[38;5;28;01mfor\u001b[39;00m word \u001b[38;5;129;01min\u001b[39;00m words \u001b[38;5;28;01mif\u001b[39;00m word \u001b[38;5;129;01mnot\u001b[39;00m \u001b[38;5;129;01min\u001b[39;00m \u001b[38;5;28mself\u001b[39m\u001b[38;5;241m.\u001b[39mexclude_words)\n\u001b[0;32m     19\u001b[0m         \u001b[38;5;28;01mfor\u001b[39;00m word \u001b[38;5;129;01min\u001b[39;00m unique_words:\n",
      "File \u001b[1;32m~\\anaconda3\\lib\\encodings\\cp1252.py:23\u001b[0m, in \u001b[0;36mIncrementalDecoder.decode\u001b[1;34m(self, input, final)\u001b[0m\n\u001b[0;32m     22\u001b[0m \u001b[38;5;28;01mdef\u001b[39;00m \u001b[38;5;21mdecode\u001b[39m(\u001b[38;5;28mself\u001b[39m, \u001b[38;5;28minput\u001b[39m, final\u001b[38;5;241m=\u001b[39m\u001b[38;5;28;01mFalse\u001b[39;00m):\n\u001b[1;32m---> 23\u001b[0m     \u001b[38;5;28;01mreturn\u001b[39;00m \u001b[43mcodecs\u001b[49m\u001b[38;5;241;43m.\u001b[39;49m\u001b[43mcharmap_decode\u001b[49m\u001b[43m(\u001b[49m\u001b[38;5;28;43minput\u001b[39;49m\u001b[43m,\u001b[49m\u001b[38;5;28;43mself\u001b[39;49m\u001b[38;5;241;43m.\u001b[39;49m\u001b[43merrors\u001b[49m\u001b[43m,\u001b[49m\u001b[43mdecoding_table\u001b[49m\u001b[43m)\u001b[49m[\u001b[38;5;241m0\u001b[39m]\n",
      "\u001b[1;31mUnicodeDecodeError\u001b[0m: 'charmap' codec can't decode byte 0x9d in position 930: character maps to <undefined>"
     ]
    }
   ],
   "source": [
    "class BookIndexGenerator:\n",
    "    def __init__(self, pages, exclude_words_file):\n",
    "        self.pages = pages\n",
    "        self.exclude_words = self.load_exclude_words(exclude_words_file)\n",
    "        self.index = {}\n",
    "\n",
    "    def load_exclude_words(self, exclude_words_file):\n",
    "        with open(exclude_words_file, 'r') as file:\n",
    "            return set(word.strip() for word in file.readlines())\n",
    "\n",
    "    def process_pages(self):\n",
    "        for page_number, page_file in self.pages.items():\n",
    "            self.process_page(page_number, page_file)\n",
    "\n",
    "    def process_page(self, page_number, page_file):\n",
    "        with open(page_file, 'r') as file:\n",
    "            words = file.read().split()\n",
    "            unique_words = set(word for word in words if word not in self.exclude_words)\n",
    "            for word in unique_words:\n",
    "                if word in self.index:\n",
    "                    self.index[word].add(page_number)\n",
    "                else:\n",
    "                    self.index[word] = {page_number}\n",
    "\n",
    "    def generate_index_file(self, index_file):\n",
    "        sorted_words = sorted(self.index.keys())\n",
    "        with open(index_file, 'w') as file:\n",
    "            for word in sorted_words:\n",
    "                pages = ','.join(str(page) for page in sorted(self.index[word]))\n",
    "                file.write(f\"{word} : {pages}\\n\")\n",
    "\n",
    "\n",
    "# Usage\n",
    "pages = {\n",
    "    1: 'Page1.txt',\n",
    "    2: 'Page2.txt',\n",
    "    3: 'Page3.txt'\n",
    "}\n",
    "exclude_words_file = 'exclude-words.txt'\n",
    "index_file = 'index.txt'\n",
    "\n",
    "index_generator = BookIndexGenerator(pages, exclude_words_file)\n",
    "index_generator.process_pages()\n",
    "index_generator.generate_index_file(index_file)\n"
   ]
  },
  {
   "cell_type": "code",
   "execution_count": 3,
   "id": "a311a656",
   "metadata": {},
   "outputs": [],
   "source": [
    "class BookIndexGenerator:\n",
    "    def __init__(self, pages, exclude_words_file):\n",
    "        self.pages = pages\n",
    "        self.exclude_words = self.load_exclude_words(exclude_words_file)\n",
    "        self.index = {}\n",
    "\n",
    "    def load_exclude_words(self, exclude_words_file):\n",
    "        with open(exclude_words_file, 'r', encoding='utf-8') as file:\n",
    "            return set(word.strip() for word in file.readlines())\n",
    "\n",
    "    def process_pages(self):\n",
    "        for page_number, page_file in self.pages.items():\n",
    "            self.process_page(page_number, page_file)\n",
    "\n",
    "    def process_page(self, page_number, page_file):\n",
    "        with open(page_file, 'r', encoding='utf-8') as file:\n",
    "            words = file.read().split()\n",
    "            unique_words = set(word for word in words if word not in self.exclude_words)\n",
    "            for word in unique_words:\n",
    "                if word in self.index:\n",
    "                    self.index[word].add(page_number)\n",
    "                else:\n",
    "                    self.index[word] = {page_number}\n",
    "\n",
    "    def generate_index_file(self, index_file):\n",
    "        sorted_words = sorted(self.index.keys())\n",
    "        with open(index_file, 'w', encoding='utf-8') as file:\n",
    "            for word in sorted_words:\n",
    "                pages = ','.join(str(page) for page in sorted(self.index[word]))\n",
    "                file.write(f\"{word} : {pages}\\n\")\n",
    "\n",
    "\n",
    "# Usage\n",
    "pages = {\n",
    "    1: 'Page1.txt',\n",
    "    2: 'Page2.txt',\n",
    "    3: 'Page3.txt'\n",
    "}\n",
    "exclude_words_file = 'exclude-words.txt'\n",
    "index_file = 'index.txt'\n",
    "\n",
    "index_generator = BookIndexGenerator(pages, exclude_words_file)\n",
    "index_generator.process_pages()\n",
    "index_generator.generate_index_file(index_file)\n"
   ]
  },
  {
   "cell_type": "code",
   "execution_count": null,
   "id": "a340e61b",
   "metadata": {},
   "outputs": [],
   "source": []
  }
 ],
 "metadata": {
  "kernelspec": {
   "display_name": "Python 3 (ipykernel)",
   "language": "python",
   "name": "python3"
  },
  "language_info": {
   "codemirror_mode": {
    "name": "ipython",
    "version": 3
   },
   "file_extension": ".py",
   "mimetype": "text/x-python",
   "name": "python",
   "nbconvert_exporter": "python",
   "pygments_lexer": "ipython3",
   "version": "3.10.9"
  }
 },
 "nbformat": 4,
 "nbformat_minor": 5
}
