{
 "cells": [
  {
   "cell_type": "code",
   "execution_count": 1,
   "id": "624f6285",
   "metadata": {},
   "outputs": [],
   "source": [
    "class BookIndexGenerator:\n",
    "    def __init__(self, pages, exclude_words_file):\n",
    "        self.pages = pages\n",
    "        self.exclude_words = self.load_exclude_words(exclude_words_file)\n",
    "        self.index = {}\n",
    "\n",
    "    def load_exclude_words(self, exclude_words_file):\n",
    "        with open(exclude_words_file, 'r', encoding='utf-8') as file:\n",
    "            return set(word.strip() for word in file.readlines())\n",
    "\n",
    "    def process_pages(self):\n",
    "        for page_number, page_file in self.pages.items():\n",
    "            self.process_page(page_number, page_file)\n",
    "\n",
    "    def process_page(self, page_number, page_file):\n",
    "        with open(page_file, 'r', encoding='utf-8') as file:\n",
    "            words = file.read().split()\n",
    "            unique_words = set(word for word in words if word not in self.exclude_words)\n",
    "            for word in unique_words:\n",
    "                if word in self.index:\n",
    "                    self.index[word].add(page_number)\n",
    "                else:\n",
    "                    self.index[word] = {page_number}\n",
    "\n",
    "    def generate_index_file(self, index_file):\n",
    "        sorted_words = sorted(self.index.keys())\n",
    "        with open(index_file, 'w', encoding='utf-8') as file:\n",
    "            for word in sorted_words:\n",
    "                pages = ','.join(str(page) for page in sorted(self.index[word]))\n",
    "                file.write(f\"{word} : {pages}\\n\")\n",
    "\n",
    "\n",
    "# Usage\n",
    "pages = {\n",
    "    1: 'Page1.txt',\n",
    "    2: 'Page2.txt',\n",
    "    3: 'Page3.txt'\n",
    "}\n",
    "exclude_words_file = 'exclude-words.txt'\n",
    "index_file = 'ans/Juputer_index1.txt'\n",
    "\n",
    "index_generator = BookIndexGenerator(pages, exclude_words_file)\n",
    "index_generator.process_pages()\n",
    "index_generator.generate_index_file(index_file)\n"
   ]
  }
 ],
 "metadata": {
  "kernelspec": {
   "display_name": "Python 3 (ipykernel)",
   "language": "python",
   "name": "python3"
  },
  "language_info": {
   "codemirror_mode": {
    "name": "ipython",
    "version": 3
   },
   "file_extension": ".py",
   "mimetype": "text/x-python",
   "name": "python",
   "nbconvert_exporter": "python",
   "pygments_lexer": "ipython3",
   "version": "3.10.9"
  }
 },
 "nbformat": 4,
 "nbformat_minor": 5
}
